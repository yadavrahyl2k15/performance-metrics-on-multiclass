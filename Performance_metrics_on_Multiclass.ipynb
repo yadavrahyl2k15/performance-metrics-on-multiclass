{
  "nbformat": 4,
  "nbformat_minor": 0,
  "metadata": {
    "colab": {
      "name": "Performance metrics on Multiclass.ipynb",
      "provenance": [],
      "authorship_tag": "ABX9TyPdATCWzImQBVnTyx1ZVHZd",
      "include_colab_link": true
    },
    "kernelspec": {
      "name": "python3",
      "display_name": "Python 3"
    }
  },
  "cells": [
    {
      "cell_type": "markdown",
      "metadata": {
        "id": "view-in-github",
        "colab_type": "text"
      },
      "source": [
        "<a href=\"https://colab.research.google.com/github/yadavrahyl2k15/performance-metrics-on-multiclass/blob/main/Performance_metrics_on_Multiclass.ipynb\" target=\"_parent\"><img src=\"https://colab.research.google.com/assets/colab-badge.svg\" alt=\"Open In Colab\"/></a>"
      ]
    },
    {
      "cell_type": "code",
      "metadata": {
        "id": "lwmQQLxs30tZ"
      },
      "source": [
        "from sklearn import metrics,"
      ],
      "execution_count": null,
      "outputs": []
    },
    {
      "cell_type": "code",
      "metadata": {
        "id": "0wmFgHB-4Sie"
      },
      "source": [
        "c='cat'\n",
        "d='dog'\n",
        "f='fox'"
      ],
      "execution_count": null,
      "outputs": []
    },
    {
      "cell_type": "markdown",
      "metadata": {
        "id": "w-WuW1B84eSb"
      },
      "source": [
        "PRECISION- For class cat it is the number of correctly predicted by cat out all predicted cat.\n"
      ]
    },
    {
      "cell_type": "markdown",
      "metadata": {
        "id": "MWoaHwEx4yND"
      },
      "source": [
        "RECALL- For cat is the number of correctly predicted cat photos out of number of actual cat"
      ]
    },
    {
      "cell_type": "code",
      "metadata": {
        "id": "JEEZ0iS34cFN"
      },
      "source": [
        "y_true=[c,c,c,c,c,c,f,f,f,f,f,f,f,f,f,f,d,d,d,d,d,d,d,d,d]\n",
        "y_pred=[c,c,c,c,d,f,c,c,c,c,c,c,d,d,f,f,c,c,c,d,d,d,d,d,d]"
      ],
      "execution_count": null,
      "outputs": []
    },
    {
      "cell_type": "code",
      "metadata": {
        "colab": {
          "base_uri": "https://localhost:8080/"
        },
        "id": "0bkHqZi45fm2",
        "outputId": "d112d840-474a-486c-fe55-86aa90c6114b"
      },
      "source": [
        "print(metrics.classification_report(y_true,y_pred,digits=3))"
      ],
      "execution_count": null,
      "outputs": [
        {
          "output_type": "stream",
          "text": [
            "              precision    recall  f1-score   support\n",
            "\n",
            "         cat      0.308     0.667     0.421         6\n",
            "         dog      0.667     0.667     0.667         9\n",
            "         fox      0.667     0.200     0.308        10\n",
            "\n",
            "    accuracy                          0.480        25\n",
            "   macro avg      0.547     0.511     0.465        25\n",
            "weighted avg      0.581     0.480     0.464        25\n",
            "\n"
          ],
          "name": "stdout"
        }
      ]
    },
    {
      "cell_type": "code",
      "metadata": {
        "id": "MaDTGKw25u5m"
      },
      "source": [
        ""
      ],
      "execution_count": null,
      "outputs": []
    }
  ]
}